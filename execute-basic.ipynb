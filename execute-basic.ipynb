{
 "cells": [
  {
   "cell_type": "code",
   "execution_count": 1,
   "source": [
    "import numpy as np\n",
    "def activation_function(x):\n",
    "    s=1/(1+np.exp(-x)) #função de ativação sigmoid\n",
    "    return s\n",
    "    \n",
    "def derivate_activation_function(x):\n",
    "    num_rows, num_cols = x.shape\n",
    "    ds = np.multiply(x,np.ones((num_rows,1))-x)\n",
    "    return ds #derivada da função de ativação sigmoid"
   ],
   "outputs": [],
   "metadata": {}
  },
  {
   "cell_type": "code",
   "execution_count": 2,
   "source": [
    "class rn(object):\n",
    "    def inicialize(self,i_nodes, h_nodes, o_nodes, learning_rate):\n",
    "        self.learning_rate =  learning_rate           # Taxa de aprendizado.\n",
    "        self.i_nodes = i_nodes                # Número de neurônios na camada de entrada.\n",
    "        self.h_nodes = h_nodes               # Número de neurônios na camada oculta.\n",
    "        self.o_nodes = o_nodes                 # Número de neurônios na camada de saída.\n",
    "        # Inicia aleatoriamente as matrizes de pesos.\n",
    "        self.Wi_h = np.random.random((h_nodes, i_nodes)) #gera a matriz aleatória de pesos entre a entrada e oculta\n",
    "        self.Wh_o = np.random.random((o_nodes, h_nodes)) #gera a matriz aleatória de pesos entre a oculta e a saída\n",
    "\n",
    "        self.bias_ih = np.random.random((h_nodes,1)) #gera bias randomico\n",
    "        self.bias_ho = np.random.random((o_nodes,1)) #gera bias randomico\n",
    "        self.etm = [] #vetor para plot\n",
    "        # print(\"pesos i->h \"+str(self.Wi_h)+\" shape: \"+ str(self.Wi_h.shape))\n",
    "        # print(\"pesos h->o \"+str(self.Wh_o)+\" shape: \"+ str(self.Wh_o.shape))\n",
    "        # print(\"bias i->h \"+str(self.bias_ih)+\" shape: \"+ str(self.bias_ih.shape))\n",
    "        # print(\"bias h->o \"+str(self.bias_ho)+\" shape: \"+ str(self.bias_ho.shape))\n",
    "        \n",
    "    def feed_forward(self, inp):\n",
    "        self.hidden = self.Wi_h.dot(inp.transpose())+self.bias_ih\n",
    "        self.hidden_activate = activation_function(self.hidden) #PesosXEntrada  acrescenta o bias\n",
    "        # Incluindo o bias. Saída da camada escondida é a entrada da camada de saída.\n",
    "        self.output = self.Wh_o.dot(self.hidden_activate)+self.bias_ho\n",
    "        self.output_activate = activation_function(self.output) #PesosXoculta acrescenta o bias função de ativação / \n",
    "        # Neural network output\n",
    "        return self.output_activate\n",
    "\n",
    "    def backpropagate(self, inp,expected):\n",
    "        erro_output = expected- self.output_activate\n",
    "        d_output = derivate_activation_function(self.output_activate) #derivada da saida\n",
    "        d_hidden = derivate_activation_function(self.hidden_activate) #derivada da oculta\n",
    "        Wh_o_T = self.Wh_o.transpose() #pesos oculta transposta\n",
    "        hidden_T = self.hidden_activate.transpose() #oculta transposta        \n",
    "        erros_hidden = np.dot(Wh_o_T,erro_output) #erro da oculta\n",
    "        # Error backpropagation.   \n",
    "        # Cálculo do gradiente na camada de saída.\n",
    "        gradient_ho = np.multiply(erro_output,d_output)*self.learning_rate\n",
    "        delta_ho = np.dot(gradient_ho,hidden_T)\n",
    "        gradient_ih = np.multiply(erros_hidden,d_hidden)*self.learning_rate\n",
    "        delta_ih = np.dot(gradient_ih, inp)\n",
    "        #adjust bias\n",
    "        self.bias_ho = self.bias_ho + gradient_ho\n",
    "        self.bias_ih = self.bias_ih + gradient_ih\n",
    "        # Atualização dos pesos.\n",
    "        self.Wi_h = self.Wi_h +delta_ih\n",
    "        self.Wh_o = self.Wh_o +delta_ho\n",
    "        return erro_output\n",
    "\n",
    "    def train(self,epochs, inputs, expected):\n",
    "        self.etm = np.zeros(epochs)\n",
    "        err=1\n",
    "        for i in range(epochs):\n",
    "            for j in range(len(inputs)):\n",
    "                output = self.feed_forward(inputs[j])\n",
    "                erro_output=self.backpropagate(inputs[j],expected[j])\n",
    "            self.etm[i]=erro_output\n",
    "            err = np.mean(np.multiply(erro_output,erro_output))/2\n",
    "            if err<0.0002:\n",
    "                print(\"erro satisfeito\")\n",
    "                break\t\n",
    "            \n",
    "    def predict(self,inputs, expected):\n",
    "        output_to_plot =  np.zeros(len(inputs))\n",
    "        expected_to_plot = np.zeros(len(inputs))\n",
    "        for j in range(len(inputs)):\n",
    "            output_activate = self.feed_forward(inputs[j])\n",
    "            output_to_plot[j]=output_activate\n",
    "            expected_to_plot[j]=expected[j] #0 pois tem só uma saída\n",
    "            print(\"saída | esperado ->\",str(output_activate),\" | \",str(expected[j]))\n",
    "        return output_to_plot,expected_to_plot"
   ],
   "outputs": [],
   "metadata": {}
  },
  {
   "cell_type": "code",
   "execution_count": 3,
   "source": [
    "import matplotlib.pyplot as plt\n",
    "# ===============================================================\n",
    "# TREINAMENTO.\n",
    "# ===============================================================\n",
    "# Entrada \n",
    "inputs = np.matrix([\n",
    "            [1, 1, 1],\n",
    "            [1, 1, 0],\n",
    "            [1, 0, 1],\n",
    "            [1, 0, 0],\n",
    "            [0, 1, 1],\n",
    "            [0, 1, 0],\n",
    "            [0, 0, 1],\n",
    "            [0, 0, 0]])\n",
    "# Vetor de resultado desejado.\n",
    "expected = np.matrix([\n",
    "            [1],\n",
    "            [0],\n",
    "            [0],\n",
    "            [1],\n",
    "            [0],\n",
    "            [1],\n",
    "            [1],\n",
    "            [0]])\n",
    "err=1\n",
    "rn1 = rn()\n",
    "rn1.inicialize(3, 4, 1, 0.1)\n",
    "rn1.train(50000,inputs,expected)\n",
    "\n",
    "# print(\"Erro Total Médio = \" + str(Etm))\n",
    "plt.plot(rn1.etm)\n",
    "plt.show()"
   ],
   "outputs": [
    {
     "output_type": "stream",
     "name": "stdout",
     "text": [
      "erro satisfeito\n"
     ]
    },
    {
     "output_type": "display_data",
     "data": {
      "image/png": "[encoded data removed]",
      "text/plain": [
       "<Figure size 432x288 with 1 Axes>"
      ]
     },
     "metadata": {
      "needs_background": "light"
     }
    }
   ],
   "metadata": {}
  },
  {
   "cell_type": "code",
   "execution_count": 7,
   "source": [
    "# teste\n",
    "test = rn1.predict(inputs,expected)\n",
    "ax = plt.subplot(1,1,1)\n",
    "p1, = ax.plot(test[0], label=\"saída\")\n",
    "p2, = ax.plot(test[1], label=\"experado\")\n",
    "handles, labels = ax.get_legend_handles_labels()\n",
    "# or sort them by labels\n",
    "import operator\n",
    "hl = sorted(zip(handles, labels),\n",
    "            key=operator.itemgetter(1))\n",
    "handles2, labels2 = zip(*hl)\n",
    "ax.legend(handles2, labels2)"
   ],
   "outputs": [
    {
     "output_type": "stream",
     "name": "stdout",
     "text": [
      "saída | esperado -> [[0.97956599]]  |  [[1]]\n",
      "saída | esperado -> [[0.00985924]]  |  [[0]]\n",
      "saída | esperado -> [[0.02405044]]  |  [[0]]\n",
      "saída | esperado -> [[0.97525549]]  |  [[1]]\n",
      "saída | esperado -> [[0.02217398]]  |  [[0]]\n",
      "saída | esperado -> [[0.97334784]]  |  [[1]]\n",
      "saída | esperado -> [[0.98879705]]  |  [[1]]\n",
      "saída | esperado -> [[0.019994]]  |  [[0]]\n"
     ]
    },
    {
     "output_type": "execute_result",
     "data": {
      "text/plain": [
       "<matplotlib.legend.Legend at 0x7f6ff1caf3a0>"
      ]
     },
     "metadata": {},
     "execution_count": 7
    },
    {
     "output_type": "display_data",
     "data": {
      "image/png": "[encoded data removed]",
      "text/plain": [
       "<Figure size 432x288 with 1 Axes>"
      ]
     },
     "metadata": {
      "needs_background": "light"
     }
    }
   ],
   "metadata": {}
  }
 ],
 "metadata": {
  "kernelspec": {
   "name": "python3",
   "display_name": "Python 3.8.10 64-bit ('venv': venv)"
  },
  "language_info": {
   "codemirror_mode": {
    "name": "ipython",
    "version": 3
   },
   "file_extension": ".py",
   "mimetype": "text/x-python",
   "name": "python",
   "nbconvert_exporter": "python",
   "pygments_lexer": "ipython3",
   "version": "3.8.10"
  },
  "interpreter": {
   "hash": "7b51840c0c34b2091858e1fe56acf5df46d8fa737ec7ced05d0201489d5c7148"
  }
 },
 "nbformat": 4,
 "nbformat_minor": 5
}