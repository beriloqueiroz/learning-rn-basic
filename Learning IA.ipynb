{
 "cells": [
  {
   "cell_type": "code",
   "execution_count": 2,
   "source": [
    "import numpy as np\n",
    "import matplotlib.pyplot as plt\n",
    "\n",
    "learning_rate = 0.1            # Taxa de aprendizado.\n",
    "i_nodes = 3                 # Número de neurônios na camada de entrada.\n",
    "h_nodes = 4                # Número de neurônios na camada oculta.\n",
    "o_nodes = 1                 # Número de neurônios na camada de saída."
   ],
   "outputs": [],
   "metadata": {}
  },
  {
   "cell_type": "code",
   "execution_count": 3,
   "source": [
    "# Inicia aleatoriamente as matrizes de pesos.\n",
    "Wi_h = np.random.random((h_nodes, i_nodes)) #gera a matriz aleatória de pesos entre a entrada e oculta\n",
    "Wh_o = np.random.random((o_nodes, h_nodes)) #gera a matriz aleatória de pesos entre a oculta e a saída\n",
    "\n",
    "bias_ih = np.random.random((h_nodes,1)) #gera bias randomico\n",
    "bias_ho = np.random.random((o_nodes,1)) #gera bias randomico\n",
    "\n",
    "print(\"pesos i->h \"+str(Wi_h)+\" shape: \"+ str(Wi_h.shape))\n",
    "print(\"pesos h->o \"+str(Wh_o)+\" shape: \"+ str(Wh_o.shape))\n",
    "print(\"bias i->h \"+str(bias_ih)+\" shape: \"+ str(bias_ih.shape))\n",
    "print(\"bias h->o \"+str(bias_ho)+\" shape: \"+ str(bias_ho.shape))"
   ],
   "outputs": [
    {
     "output_type": "stream",
     "name": "stdout",
     "text": [
      "pesos i->h [[0.41893508 0.55851903 0.67125188]\n",
      " [0.03583814 0.65206776 0.84943219]\n",
      " [0.08302327 0.55221085 0.7138914 ]\n",
      " [0.05689615 0.99551308 0.08835135]] shape: (4, 3)\n",
      "pesos h->o [[0.11640605 0.78644489 0.23182379 0.10829505]] shape: (1, 4)\n",
      "bias i->h [[0.97318358]\n",
      " [0.23681475]\n",
      " [0.31407323]\n",
      " [0.62525044]] shape: (4, 1)\n",
      "bias h->o [[0.97522435]] shape: (1, 1)\n"
     ]
    }
   ],
   "metadata": {}
  },
  {
   "cell_type": "code",
   "execution_count": 4,
   "source": [
    "# Carrega os dados de treinamento\n",
    "# Entrada \n",
    "# inputs = np.matrix([[1, 1],\n",
    "#             [1, 0],\n",
    "#             [0, 1],\n",
    "#             [0, 0]])\n",
    "# # Vetor de resultado desejado.\n",
    "# expected = np.matrix([[0],\n",
    "#             [1],\n",
    "#             [1],\n",
    "#             [0]])\n",
    "\n",
    "            # Entrada \n",
    "inputs = np.matrix([\n",
    "            [1, 1, 1],\n",
    "            [1, 1, 0],\n",
    "            [1, 0, 1],\n",
    "            [1, 0, 0],\n",
    "            [0, 1, 1],\n",
    "            [0, 1, 0],\n",
    "            [0, 0, 1],\n",
    "            [0, 0, 0]])\n",
    "# Vetor de resultado desejado.\n",
    "expected = np.matrix([\n",
    "            [1],\n",
    "            [0],\n",
    "            [0],\n",
    "            [1],\n",
    "            [0],\n",
    "            [1],\n",
    "            [1],\n",
    "            [0]])\n",
    "i_qty = inputs.shape[0]                # Número de padrões.\n",
    "print(i_qty)\n",
    "numEpocas = 50000\n",
    "erros_output_quad = np.zeros(i_qty)\n",
    "Etm = np.zeros(numEpocas)\n",
    "print(\"entrada: \"+str(inputs))"
   ],
   "outputs": [
    {
     "output_type": "stream",
     "name": "stdout",
     "text": [
      "8\n",
      "entrada: [[1 1 1]\n",
      " [1 1 0]\n",
      " [1 0 1]\n",
      " [1 0 0]\n",
      " [0 1 1]\n",
      " [0 1 0]\n",
      " [0 0 1]\n",
      " [0 0 0]]\n"
     ]
    }
   ],
   "metadata": {}
  },
  {
   "cell_type": "code",
   "execution_count": 5,
   "source": [
    "# ===============================================================\n",
    "# TREINAMENTO.\n",
    "# ===============================================================\n",
    "err=1\n",
    "for i in range(numEpocas):\n",
    "    for j in range(i_qty):     \n",
    "        inputj= inputs[j].transpose()  \n",
    "        hidden = Wi_h.dot(inputj) # PesosXEntrada     \n",
    "        hidden = hidden+bias_ih #acrescenta o bias\n",
    "        hidden = 1/(1+np.exp(-hidden)) #função de ativação\n",
    "    # Incluindo o bias. Saída da camada escondida é a entrada da camada\n",
    "        # de saída.\n",
    "        output = Wh_o.dot(hidden) # PesosXoculta\n",
    "        output = output+bias_ho #acrescenta o bias\n",
    "        output = 1/(1+np.exp(-output)) #função de ativação / # Neural network output\n",
    "        \n",
    "        erro_output = expected[j] - output   \n",
    "        d_output = np.multiply(output,np.ones((o_nodes,1))-output) #derivada da saida\n",
    "        d_hidden = np.multiply(hidden,np.ones((h_nodes,1))-hidden) #derivada da oculta\n",
    "        Wh_o_T = Wh_o.transpose() #oculta transposta\n",
    "        output_T = output.transpose() #saida transposta\n",
    "        hidden_T = hidden.transpose()\n",
    "        \n",
    "        erros_hidden = np.dot(Wh_o_T,erro_output) #erro da oculta\n",
    "\n",
    "        # Error backpropagation.   \n",
    "        # Cálculo do gradiente na camada de saída.\n",
    "        gradient_ho = np.multiply(erro_output,d_output)*learning_rate\n",
    "        delta_ho = np.dot(gradient_ho,hidden_T)\n",
    "\n",
    "        gradient_ih = np.multiply(erros_hidden,d_hidden)*learning_rate\n",
    "        delta_ih = np.dot(gradient_ih, inputs[j])\n",
    "        #adjust bias\n",
    "        bias_ho = bias_ho + gradient_ho\n",
    "        bias_ih = bias_ih + gradient_ih\n",
    "        # Atualização dos pesos.\n",
    "        Wi_h = Wi_h +delta_ih\n",
    "        Wh_o = Wh_o +delta_ho\n",
    "\n",
    "        #print(\"entrada = \"+ str(inputj))\n",
    "        #print(\"esperado = \"+ str(expected[j]))\n",
    "        #print(\"saida = \"+ str(output))\n",
    "        #print(\"erro = \"+ str(erro_output))  \n",
    "    Etm[i] = erro_output\n",
    "    err = np.mean(np.multiply(erro_output,erro_output))/2\n",
    "    if err<0.00002:\n",
    "        print(\"erro satisfeito\")\n",
    "        break"
   ],
   "outputs": [
    {
     "output_type": "stream",
     "name": "stdout",
     "text": [
      "erro satisfeito\n"
     ]
    }
   ],
   "metadata": {}
  },
  {
   "cell_type": "code",
   "execution_count": 6,
   "source": [
    "\n",
    "   \n",
    "# print(\"Erro Total Médio = \" + str(Etm))\n",
    "plt.plot(Etm)\n",
    "plt.show()"
   ],
   "outputs": [
    {
     "output_type": "display_data",
     "data": {
      "image/png": "[encoded data removed]",
      "text/plain": [
       "<Figure size 432x288 with 1 Axes>"
      ]
     },
     "metadata": {
      "needs_background": "light"
     }
    }
   ],
   "metadata": {}
  },
  {
   "cell_type": "code",
   "execution_count": 7,
   "source": [
    "# ===============================================================\n",
    "# TESTE DA REDE.\n",
    "# ===============================================================\n",
    "\n",
    "test_erro_output = np.zeros(i_qty)\n",
    "\n",
    "for j in range(i_qty):\n",
    "    test_inputj= inputs[j].transpose()  \n",
    "    test_hidden = Wi_h.dot(test_inputj) # PesosXEntrada     \n",
    "    test_hidden = test_hidden+bias_ih #acrescenta o bias\n",
    "    test_hidden = 1/(1+np.exp(-test_hidden)) #função de ativação\n",
    "    # Incluindo o bias. Saída da camada escondida é a entrada da camada\n",
    "    # de saída.\n",
    "    test_output = Wh_o.dot(test_hidden) # PesosXoculta\n",
    "    test_output = test_output+bias_ho #acrescenta o bias\n",
    "    test_output = 1/(1+np.exp(-test_output)) #função de ativação / # Neural network output\n",
    "    print(\"Entrada: \"+str(inputs[j]))\n",
    "    print(\"Saida: \"+str(test_output))\n",
    "    print(\"Esperado: \"+str(expected[j]))\n",
    "    test_erro_output = expected[j] - test_output   "
   ],
   "outputs": [
    {
     "output_type": "stream",
     "name": "stdout",
     "text": [
      "Entrada: [[1 1 1]]\n",
      "Saida: [[0.99440621]]\n",
      "Esperado: [[1]]\n",
      "Entrada: [[1 1 0]]\n",
      "Saida: [[0.0537656]]\n",
      "Esperado: [[0]]\n",
      "Entrada: [[1 0 1]]\n",
      "Saida: [[0.04662252]]\n",
      "Esperado: [[0]]\n",
      "Entrada: [[1 0 0]]\n",
      "Saida: [[0.93957242]]\n",
      "Esperado: [[1]]\n",
      "Entrada: [[0 1 1]]\n",
      "Saida: [[0.05545763]]\n",
      "Esperado: [[0]]\n",
      "Entrada: [[0 1 0]]\n",
      "Saida: [[0.94911501]]\n",
      "Esperado: [[1]]\n",
      "Entrada: [[0 0 1]]\n",
      "Saida: [[0.94049699]]\n",
      "Esperado: [[1]]\n",
      "Entrada: [[0 0 0]]\n",
      "Saida: [[0.00631872]]\n",
      "Esperado: [[0]]\n"
     ]
    }
   ],
   "metadata": {}
  }
 ],
 "metadata": {
  "kernelspec": {
   "name": "python3",
   "display_name": "Python 3.8.10 64-bit ('venv': venv)"
  },
  "language_info": {
   "codemirror_mode": {
    "name": "ipython",
    "version": 3
   },
   "file_extension": ".py",
   "mimetype": "text/x-python",
   "name": "python",
   "nbconvert_exporter": "python",
   "pygments_lexer": "ipython3",
   "version": "3.8.10"
  },
  "interpreter": {
   "hash": "7b51840c0c34b2091858e1fe56acf5df46d8fa737ec7ced05d0201489d5c7148"
  }
 },
 "nbformat": 4,
 "nbformat_minor": 5
}